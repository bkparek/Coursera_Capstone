{
    "cells": [
        {
            "cell_type": "markdown",
            "metadata": {
                "collapsed": true
            },
            "source": "# Segmenting and Clustering Neighborhoods in Toronto"
        },
        {
            "cell_type": "markdown",
            "metadata": {},
            "source": "Objective of this assignment is to explore, segment, and cluster the neighborhoods in the city of Toronto.\n\n### Part 1: Scrape the wikipedia page for Toronto neighborhod data, clean & display thetop10 rows\n\nImport the required packages like pandas, beautifulSoup and transform data into a dataframe from a html website"
        },
        {
            "cell_type": "code",
            "execution_count": 18,
            "metadata": {},
            "outputs": [],
            "source": "# Import the required packages\n\nfrom bs4 import BeautifulSoup\nimport requests\nimport pandas as pd"
        },
        {
            "cell_type": "code",
            "execution_count": 19,
            "metadata": {
                "scrolled": false
            },
            "outputs": [],
            "source": "# Download url data from internet\n\nurl = \"https://en.wikipedia.org/wiki/List_of_postal_codes_of_Canada:_M\"\nsource = requests.get(url).text\nCanadaPostaldata = BeautifulSoup(source, 'lxml')\n# print(Canada_data)"
        },
        {
            "cell_type": "code",
            "execution_count": 20,
            "metadata": {},
            "outputs": [],
            "source": "# creat a new Dataframe\n\ncolumn_names = ['PostalCode','Borough','Neighborhood']\ntoronto = pd.DataFrame(columns = column_names)\n"
        },
        {
            "cell_type": "code",
            "execution_count": 29,
            "metadata": {
                "scrolled": false
            },
            "outputs": [],
            "source": "#Scrape the toronto pincodes from html table \n\ncontent = CanadaPostaldata.find('div', class_ = 'mw-parser-output')\ntable = content.table.tbody\npostcode = '' \nborough = '' \nneighborhood = ''\nfor tr in table.find_all('tr'):\n    i = 0\n    for td in tr.find_all('td'):\n        if i == 0:\n            postcode = td.text.strip('\\n')\n            i = i + 1\n        elif i == 1:\n            borough = td.text.strip('\\n')\n            i = i + 1\n        elif i == 2: \n            neighborhood = td.text.strip('\\n')\n    toronto = toronto.append({'PostalCode': postcode,'Borough': borough,'Neighborhood': neighborhood},ignore_index=True)\n    \ntoronto = toronto[toronto.Borough!='Not assigned']\ntoronto = toronto[toronto.Borough!= 0]\ntoronto.reset_index(drop = True, inplace = True)\ni = 0\nfor i in range(0,toronto.shape[0]):\n    if toronto.iloc[i][2] == 'Not assigned':\n        toronto.iloc[i][2] = toronto.iloc[i][1]\n        i = i+1\n\n#Format the Neighborhood column\ndf = toronto.groupby(['PostalCode','Borough'])['Neighborhood'].apply(', '.join).reset_index()\n\n# Drop NA & remove Not assigned values\ndf = df.dropna()\nempty = 'Not assigned'\ndf = df[(df.PostalCode != empty ) & (df.Borough != empty) & (df.Neighborhood != empty)]\n\nindexName = df[ df['PostalCode'] == '' ].index\ndf.drop(indexName , inplace=True)"
        },
        {
            "cell_type": "code",
            "execution_count": 31,
            "metadata": {},
            "outputs": [
                {
                    "data": {
                        "text/html": "<div>\n<style scoped>\n    .dataframe tbody tr th:only-of-type {\n        vertical-align: middle;\n    }\n\n    .dataframe tbody tr th {\n        vertical-align: top;\n    }\n\n    .dataframe thead th {\n        text-align: right;\n    }\n</style>\n<table border=\"1\" class=\"dataframe\">\n  <thead>\n    <tr style=\"text-align: right;\">\n      <th></th>\n      <th>PostalCode</th>\n      <th>Borough</th>\n      <th>Neighborhood</th>\n    </tr>\n  </thead>\n  <tbody>\n    <tr>\n      <th>0</th>\n      <td>M1B</td>\n      <td>Scarborough</td>\n      <td>Malvern, Rouge, Malvern, Rouge, Malvern, Rouge...</td>\n    </tr>\n    <tr>\n      <th>1</th>\n      <td>M1C</td>\n      <td>Scarborough</td>\n      <td>Rouge Hill, Port Union, Highland Creek, Rouge ...</td>\n    </tr>\n    <tr>\n      <th>2</th>\n      <td>M1E</td>\n      <td>Scarborough</td>\n      <td>Guildwood, Morningside, West Hill, Guildwood, ...</td>\n    </tr>\n    <tr>\n      <th>3</th>\n      <td>M1G</td>\n      <td>Scarborough</td>\n      <td>Woburn, Woburn, Woburn, Woburn, Woburn, Woburn...</td>\n    </tr>\n    <tr>\n      <th>4</th>\n      <td>M1H</td>\n      <td>Scarborough</td>\n      <td>Cedarbrae, Cedarbrae, Cedarbrae, Cedarbrae, Ce...</td>\n    </tr>\n    <tr>\n      <th>5</th>\n      <td>M1J</td>\n      <td>Scarborough</td>\n      <td>Scarborough Village, Scarborough Village, Scar...</td>\n    </tr>\n    <tr>\n      <th>6</th>\n      <td>M1K</td>\n      <td>Scarborough</td>\n      <td>Kennedy Park, Ionview, East Birchmount Park, K...</td>\n    </tr>\n    <tr>\n      <th>7</th>\n      <td>M1L</td>\n      <td>Scarborough</td>\n      <td>Golden Mile, Clairlea, Oakridge, Golden Mile, ...</td>\n    </tr>\n    <tr>\n      <th>8</th>\n      <td>M1M</td>\n      <td>Scarborough</td>\n      <td>Cliffside, Cliffcrest, Scarborough Village Wes...</td>\n    </tr>\n    <tr>\n      <th>9</th>\n      <td>M1N</td>\n      <td>Scarborough</td>\n      <td>Birch Cliff, Cliffside West, Birch Cliff, Clif...</td>\n    </tr>\n    <tr>\n      <th>10</th>\n      <td>M1P</td>\n      <td>Scarborough</td>\n      <td>Dorset Park, Wexford Heights, Scarborough Town...</td>\n    </tr>\n  </tbody>\n</table>\n</div>",
                        "text/plain": "   PostalCode      Borough                                       Neighborhood\n0         M1B  Scarborough  Malvern, Rouge, Malvern, Rouge, Malvern, Rouge...\n1         M1C  Scarborough  Rouge Hill, Port Union, Highland Creek, Rouge ...\n2         M1E  Scarborough  Guildwood, Morningside, West Hill, Guildwood, ...\n3         M1G  Scarborough  Woburn, Woburn, Woburn, Woburn, Woburn, Woburn...\n4         M1H  Scarborough  Cedarbrae, Cedarbrae, Cedarbrae, Cedarbrae, Ce...\n5         M1J  Scarborough  Scarborough Village, Scarborough Village, Scar...\n6         M1K  Scarborough  Kennedy Park, Ionview, East Birchmount Park, K...\n7         M1L  Scarborough  Golden Mile, Clairlea, Oakridge, Golden Mile, ...\n8         M1M  Scarborough  Cliffside, Cliffcrest, Scarborough Village Wes...\n9         M1N  Scarborough  Birch Cliff, Cliffside West, Birch Cliff, Clif...\n10        M1P  Scarborough  Dorset Park, Wexford Heights, Scarborough Town..."
                    },
                    "execution_count": 31,
                    "metadata": {},
                    "output_type": "execute_result"
                }
            ],
            "source": "# Group Neighborhood together\ndef group_neighborhood_list(grouped):    \n    return ', '.join(sorted(grouped['Neighborhood'].tolist()))\n                    \ngrouped_toronto = df.groupby(['PostalCode', 'Borough'])\ndf_totonto = grouped_toronto.apply(group_neighborhood_list).reset_index(name='Neighborhood')\n\ndf_totonto.head(11)"
        },
        {
            "cell_type": "code",
            "execution_count": 13,
            "metadata": {},
            "outputs": [
                {
                    "name": "stdout",
                    "output_type": "stream",
                    "text": "The shape of dataframe is (104, 3)\n"
                }
            ],
            "source": "# Print the shape for the final dataframe\nprint('The shape of dataframe is',df_totonto.shape)"
        },
        {
            "cell_type": "code",
            "execution_count": null,
            "metadata": {},
            "outputs": [],
            "source": ""
        }
    ],
    "metadata": {
        "kernelspec": {
            "display_name": "Python 3.6",
            "language": "python",
            "name": "python3"
        },
        "language_info": {
            "codemirror_mode": {
                "name": "ipython",
                "version": 3
            },
            "file_extension": ".py",
            "mimetype": "text/x-python",
            "name": "python",
            "nbconvert_exporter": "python",
            "pygments_lexer": "ipython3",
            "version": "3.6.9"
        }
    },
    "nbformat": 4,
    "nbformat_minor": 1
}